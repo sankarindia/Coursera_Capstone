{
    "nbformat_minor": 1, 
    "cells": [
        {
            "execution_count": 1, 
            "cell_type": "code", 
            "metadata": {}, 
            "outputs": [
                {
                    "output_type": "stream", 
                    "name": "stdout", 
                    "text": "Solving environment: done\n\n## Package Plan ##\n\n  environment location: /opt/conda/envs/DSX-Python35\n\n  added / updated specs: \n    - wikipedia\n\n\nThe following packages will be downloaded:\n\n    package                    |            build\n    ---------------------------|-----------------\n    openssl-1.0.2p             |       h470a237_2         3.1 MB  conda-forge/label/cf201901\n    ca-certificates-2018.11.29 |       ha4d7672_0         143 KB  conda-forge/label/cf201901\n    certifi-2018.8.24          |        py35_1001         139 KB  conda-forge/label/cf201901\n    wikipedia-1.4.0            |           py35_0          20 KB  conda-forge/label/cf201901\n    ------------------------------------------------------------\n                                           Total:         3.4 MB\n\nThe following NEW packages will be INSTALLED:\n\n    wikipedia:       1.4.0-py35_0      conda-forge/label/cf201901\n\nThe following packages will be UPDATED:\n\n    certifi:         2018.8.24-py35_1                             --> 2018.8.24-py35_1001   conda-forge/label/cf201901\n    openssl:         1.0.2p-h14c3975_0                            --> 1.0.2p-h470a237_2     conda-forge/label/cf201901\n\nThe following packages will be DOWNGRADED:\n\n    ca-certificates: 2019.1.23-0                                  --> 2018.11.29-ha4d7672_0 conda-forge/label/cf201901\n\n\nDownloading and Extracting Packages\nopenssl-1.0.2p       | 3.1 MB    | ##################################### | 100% \nca-certificates-2018 | 143 KB    | ##################################### | 100% \ncertifi-2018.8.24    | 139 KB    | ##################################### | 100% \nwikipedia-1.4.0      | 20 KB     | ##################################### | 100% \nPreparing transaction: done\nVerifying transaction: done\nExecuting transaction: done\n"
                }
            ], 
            "source": "import pandas as pd\n!conda install -c conda-forge/label/cf201901 wikipedia\nimport wikipedia as wp\n"
        }, 
        {
            "execution_count": 2, 
            "cell_type": "code", 
            "metadata": {}, 
            "outputs": [
                {
                    "execution_count": 2, 
                    "metadata": {}, 
                    "data": {
                        "text/html": "<div>\n<style scoped>\n    .dataframe tbody tr th:only-of-type {\n        vertical-align: middle;\n    }\n\n    .dataframe tbody tr th {\n        vertical-align: top;\n    }\n\n    .dataframe thead th {\n        text-align: right;\n    }\n</style>\n<table border=\"1\" class=\"dataframe\">\n  <thead>\n    <tr style=\"text-align: right;\">\n      <th></th>\n      <th>0</th>\n      <th>1</th>\n      <th>2</th>\n    </tr>\n  </thead>\n  <tbody>\n    <tr>\n      <th>0</th>\n      <td>Postcode</td>\n      <td>Borough</td>\n      <td>Neighbourhood</td>\n    </tr>\n    <tr>\n      <th>1</th>\n      <td>M1A</td>\n      <td>Not assigned</td>\n      <td>Not assigned</td>\n    </tr>\n    <tr>\n      <th>2</th>\n      <td>M2A</td>\n      <td>Not assigned</td>\n      <td>Not assigned</td>\n    </tr>\n    <tr>\n      <th>3</th>\n      <td>M3A</td>\n      <td>North York</td>\n      <td>Parkwoods</td>\n    </tr>\n    <tr>\n      <th>4</th>\n      <td>M4A</td>\n      <td>North York</td>\n      <td>Victoria Village</td>\n    </tr>\n  </tbody>\n</table>\n</div>", 
                        "text/plain": "          0             1                 2\n0  Postcode       Borough     Neighbourhood\n1       M1A  Not assigned      Not assigned\n2       M2A  Not assigned      Not assigned\n3       M3A    North York         Parkwoods\n4       M4A    North York  Victoria Village"
                    }, 
                    "output_type": "execute_result"
                }
            ], 
            "source": "html = wp.page(\"List_of_postal_codes_of_Canada:_M\").html().encode(\"UTF-8\")\nToronto_df = pd.read_html(html)[0]\nToronto_df.head()"
        }, 
        {
            "execution_count": 3, 
            "cell_type": "code", 
            "metadata": {}, 
            "outputs": [
                {
                    "execution_count": 3, 
                    "metadata": {}, 
                    "data": {
                        "text/html": "<div>\n<style scoped>\n    .dataframe tbody tr th:only-of-type {\n        vertical-align: middle;\n    }\n\n    .dataframe tbody tr th {\n        vertical-align: top;\n    }\n\n    .dataframe thead th {\n        text-align: right;\n    }\n</style>\n<table border=\"1\" class=\"dataframe\">\n  <thead>\n    <tr style=\"text-align: right;\">\n      <th></th>\n      <th>Postcode</th>\n      <th>Borough</th>\n      <th>Neighbourhood</th>\n    </tr>\n  </thead>\n  <tbody>\n    <tr>\n      <th>0</th>\n      <td>Postcode</td>\n      <td>Borough</td>\n      <td>Neighbourhood</td>\n    </tr>\n    <tr>\n      <th>1</th>\n      <td>M1A</td>\n      <td>Not assigned</td>\n      <td>Not assigned</td>\n    </tr>\n    <tr>\n      <th>2</th>\n      <td>M2A</td>\n      <td>Not assigned</td>\n      <td>Not assigned</td>\n    </tr>\n    <tr>\n      <th>3</th>\n      <td>M3A</td>\n      <td>North York</td>\n      <td>Parkwoods</td>\n    </tr>\n    <tr>\n      <th>4</th>\n      <td>M4A</td>\n      <td>North York</td>\n      <td>Victoria Village</td>\n    </tr>\n  </tbody>\n</table>\n</div>", 
                        "text/plain": "0  Postcode       Borough     Neighbourhood\n0  Postcode       Borough     Neighbourhood\n1       M1A  Not assigned      Not assigned\n2       M2A  Not assigned      Not assigned\n3       M3A    North York         Parkwoods\n4       M4A    North York  Victoria Village"
                    }, 
                    "output_type": "execute_result"
                }
            ], 
            "source": "Toronto_df.columns=Toronto_df.iloc[0]\nToronto_df.head()"
        }, 
        {
            "execution_count": 4, 
            "cell_type": "code", 
            "metadata": {}, 
            "outputs": [
                {
                    "execution_count": 4, 
                    "metadata": {}, 
                    "data": {
                        "text/plain": "(288, 3)"
                    }, 
                    "output_type": "execute_result"
                }
            ], 
            "source": "Toronto_df=Toronto_df.reindex(Toronto_df.index.drop(0))\nToronto_df.head()\nToronto_df.shape"
        }, 
        {
            "execution_count": 5, 
            "cell_type": "code", 
            "metadata": {}, 
            "outputs": [
                {
                    "execution_count": 5, 
                    "metadata": {}, 
                    "data": {
                        "text/html": "<div>\n<style scoped>\n    .dataframe tbody tr th:only-of-type {\n        vertical-align: middle;\n    }\n\n    .dataframe tbody tr th {\n        vertical-align: top;\n    }\n\n    .dataframe thead th {\n        text-align: right;\n    }\n</style>\n<table border=\"1\" class=\"dataframe\">\n  <thead>\n    <tr style=\"text-align: right;\">\n      <th></th>\n      <th>Postcode</th>\n      <th>Borough</th>\n      <th>Neighbourhood</th>\n    </tr>\n  </thead>\n  <tbody>\n    <tr>\n      <th>0</th>\n      <td>M3A</td>\n      <td>North York</td>\n      <td>Parkwoods</td>\n    </tr>\n    <tr>\n      <th>1</th>\n      <td>M4A</td>\n      <td>North York</td>\n      <td>Victoria Village</td>\n    </tr>\n    <tr>\n      <th>2</th>\n      <td>M5A</td>\n      <td>Downtown Toronto</td>\n      <td>Harbourfront</td>\n    </tr>\n    <tr>\n      <th>3</th>\n      <td>M5A</td>\n      <td>Downtown Toronto</td>\n      <td>Regent Park</td>\n    </tr>\n    <tr>\n      <th>4</th>\n      <td>M6A</td>\n      <td>North York</td>\n      <td>Lawrence Heights</td>\n    </tr>\n  </tbody>\n</table>\n</div>", 
                        "text/plain": "0 Postcode           Borough     Neighbourhood\n0      M3A        North York         Parkwoods\n1      M4A        North York  Victoria Village\n2      M5A  Downtown Toronto      Harbourfront\n3      M5A  Downtown Toronto       Regent Park\n4      M6A        North York  Lawrence Heights"
                    }, 
                    "output_type": "execute_result"
                }
            ], 
            "source": "Toronto_database=Toronto_df[Toronto_df['Borough']!='Not assigned']\nToronto_database=Toronto_database.reset_index()\nToronto_database=Toronto_database.drop('index',1)\nToronto_database.head()"
        }, 
        {
            "execution_count": 6, 
            "cell_type": "code", 
            "metadata": {}, 
            "outputs": [
                {
                    "execution_count": 6, 
                    "metadata": {}, 
                    "data": {
                        "text/html": "<div>\n<style scoped>\n    .dataframe tbody tr th:only-of-type {\n        vertical-align: middle;\n    }\n\n    .dataframe tbody tr th {\n        vertical-align: top;\n    }\n\n    .dataframe thead th {\n        text-align: right;\n    }\n</style>\n<table border=\"1\" class=\"dataframe\">\n  <thead>\n    <tr style=\"text-align: right;\">\n      <th></th>\n      <th>Postcode</th>\n      <th>Borough</th>\n      <th>Neighbourhood</th>\n    </tr>\n  </thead>\n  <tbody>\n    <tr>\n      <th>6</th>\n      <td>M7A</td>\n      <td>Queen's Park</td>\n      <td>Queen's Park</td>\n    </tr>\n  </tbody>\n</table>\n</div>", 
                        "text/plain": "0 Postcode       Borough Neighbourhood\n6      M7A  Queen's Park  Queen's Park"
                    }, 
                    "output_type": "execute_result"
                }
            ], 
            "source": "Toronto_database1=Toronto_database[Toronto_database['Neighbourhood']=='Not assigned']\nToronto_database1=Toronto_database1.drop('Neighbourhood',1)\nToronto_database1['Neighbourhood']=Toronto_database1['Borough']\nToronto_database1"
        }, 
        {
            "execution_count": 7, 
            "cell_type": "code", 
            "metadata": {}, 
            "outputs": [
                {
                    "execution_count": 7, 
                    "metadata": {}, 
                    "data": {
                        "text/plain": "(211, 3)"
                    }, 
                    "output_type": "execute_result"
                }
            ], 
            "source": "Toronto_database=Toronto_df[Toronto_df['Neighbourhood']!='Not assigned']\nToronto_database=Toronto_database.append(Toronto_database1)\nToronto_database.shape"
        }, 
        {
            "execution_count": 18, 
            "cell_type": "code", 
            "metadata": {}, 
            "outputs": [
                {
                    "execution_count": 18, 
                    "metadata": {}, 
                    "data": {
                        "text/html": "<div>\n<style scoped>\n    .dataframe tbody tr th:only-of-type {\n        vertical-align: middle;\n    }\n\n    .dataframe tbody tr th {\n        vertical-align: top;\n    }\n\n    .dataframe thead th {\n        text-align: right;\n    }\n</style>\n<table border=\"1\" class=\"dataframe\">\n  <thead>\n    <tr style=\"text-align: right;\">\n      <th></th>\n      <th>Borough</th>\n      <th>Neighbourhood</th>\n    </tr>\n    <tr>\n      <th>Postcode</th>\n      <th></th>\n      <th></th>\n    </tr>\n  </thead>\n  <tbody>\n    <tr>\n      <th>M1B</th>\n      <td>Scarborough</td>\n      <td>Rouge, Malvern</td>\n    </tr>\n    <tr>\n      <th>M1C</th>\n      <td>Scarborough</td>\n      <td>Highland Creek, Rouge Hill, Port Union</td>\n    </tr>\n    <tr>\n      <th>M1E</th>\n      <td>Scarborough</td>\n      <td>Guildwood, Morningside, West Hill</td>\n    </tr>\n    <tr>\n      <th>M1G</th>\n      <td>Scarborough</td>\n      <td>Woburn</td>\n    </tr>\n    <tr>\n      <th>M1H</th>\n      <td>Scarborough</td>\n      <td>Cedarbrae</td>\n    </tr>\n    <tr>\n      <th>M1J</th>\n      <td>Scarborough</td>\n      <td>Scarborough Village</td>\n    </tr>\n    <tr>\n      <th>M1K</th>\n      <td>Scarborough</td>\n      <td>East Birchmount Park, Ionview, Kennedy Park</td>\n    </tr>\n    <tr>\n      <th>M1L</th>\n      <td>Scarborough</td>\n      <td>Clairlea, Golden Mile, Oakridge</td>\n    </tr>\n    <tr>\n      <th>M1M</th>\n      <td>Scarborough</td>\n      <td>Cliffcrest, Cliffside, Scarborough Village West</td>\n    </tr>\n    <tr>\n      <th>M1N</th>\n      <td>Scarborough</td>\n      <td>Birch Cliff, Cliffside West</td>\n    </tr>\n    <tr>\n      <th>M1P</th>\n      <td>Scarborough</td>\n      <td>Dorset Park, Scarborough Town Centre, Wexford ...</td>\n    </tr>\n    <tr>\n      <th>M1R</th>\n      <td>Scarborough</td>\n      <td>Maryvale, Wexford</td>\n    </tr>\n    <tr>\n      <th>M1S</th>\n      <td>Scarborough</td>\n      <td>Agincourt</td>\n    </tr>\n    <tr>\n      <th>M1T</th>\n      <td>Scarborough</td>\n      <td>Clarks Corners, Sullivan, Tam O'Shanter</td>\n    </tr>\n    <tr>\n      <th>M1V</th>\n      <td>Scarborough</td>\n      <td>Agincourt North, L'Amoreaux East, Milliken, St...</td>\n    </tr>\n    <tr>\n      <th>M1W</th>\n      <td>Scarborough</td>\n      <td>L'Amoreaux West</td>\n    </tr>\n    <tr>\n      <th>M1X</th>\n      <td>Scarborough</td>\n      <td>Upper Rouge</td>\n    </tr>\n    <tr>\n      <th>M2H</th>\n      <td>North York</td>\n      <td>Hillcrest Village</td>\n    </tr>\n    <tr>\n      <th>M2J</th>\n      <td>North York</td>\n      <td>Fairview, Henry Farm, Oriole</td>\n    </tr>\n    <tr>\n      <th>M2K</th>\n      <td>North York</td>\n      <td>Bayview Village</td>\n    </tr>\n    <tr>\n      <th>M2L</th>\n      <td>North York</td>\n      <td>Silver Hills, York Mills</td>\n    </tr>\n    <tr>\n      <th>M2M</th>\n      <td>North York</td>\n      <td>Newtonbrook, Willowdale</td>\n    </tr>\n    <tr>\n      <th>M2N</th>\n      <td>North York</td>\n      <td>Willowdale South</td>\n    </tr>\n    <tr>\n      <th>M2P</th>\n      <td>North York</td>\n      <td>York Mills West</td>\n    </tr>\n    <tr>\n      <th>M2R</th>\n      <td>North York</td>\n      <td>Willowdale West</td>\n    </tr>\n    <tr>\n      <th>M3A</th>\n      <td>North York</td>\n      <td>Parkwoods</td>\n    </tr>\n    <tr>\n      <th>M3B</th>\n      <td>North York</td>\n      <td>Don Mills North</td>\n    </tr>\n    <tr>\n      <th>M3C</th>\n      <td>North York</td>\n      <td>Flemingdon Park, Don Mills South</td>\n    </tr>\n    <tr>\n      <th>M3H</th>\n      <td>North York</td>\n      <td>Bathurst Manor, Downsview North, Wilson Heights</td>\n    </tr>\n    <tr>\n      <th>M3J</th>\n      <td>North York</td>\n      <td>Northwood Park, York University</td>\n    </tr>\n    <tr>\n      <th>...</th>\n      <td>...</td>\n      <td>...</td>\n    </tr>\n    <tr>\n      <th>M6C</th>\n      <td>York</td>\n      <td>Humewood-Cedarvale</td>\n    </tr>\n    <tr>\n      <th>M6E</th>\n      <td>York</td>\n      <td>Caledonia-Fairbanks</td>\n    </tr>\n    <tr>\n      <th>M6G</th>\n      <td>Downtown Toronto</td>\n      <td>Christie</td>\n    </tr>\n    <tr>\n      <th>M6H</th>\n      <td>West Toronto</td>\n      <td>Dovercourt Village, Dufferin</td>\n    </tr>\n    <tr>\n      <th>M6J</th>\n      <td>West Toronto</td>\n      <td>Little Portugal, Trinity</td>\n    </tr>\n    <tr>\n      <th>M6K</th>\n      <td>West Toronto</td>\n      <td>Brockton, Exhibition Place, Parkdale Village</td>\n    </tr>\n    <tr>\n      <th>M6L</th>\n      <td>North York</td>\n      <td>Downsview, North Park, Upwood Park</td>\n    </tr>\n    <tr>\n      <th>M6M</th>\n      <td>York</td>\n      <td>Del Ray, Keelesdale, Mount Dennis, Silverthorn</td>\n    </tr>\n    <tr>\n      <th>M6N</th>\n      <td>York</td>\n      <td>The Junction North, Runnymede</td>\n    </tr>\n    <tr>\n      <th>M6P</th>\n      <td>West Toronto</td>\n      <td>High Park, The Junction South</td>\n    </tr>\n    <tr>\n      <th>M6R</th>\n      <td>West Toronto</td>\n      <td>Parkdale, Roncesvalles</td>\n    </tr>\n    <tr>\n      <th>M6S</th>\n      <td>West Toronto</td>\n      <td>Runnymede, Swansea</td>\n    </tr>\n    <tr>\n      <th>M7A</th>\n      <td>Queen's Park</td>\n      <td>Queen's Park</td>\n    </tr>\n    <tr>\n      <th>M7R</th>\n      <td>Mississauga</td>\n      <td>Canada Post Gateway Processing Centre</td>\n    </tr>\n    <tr>\n      <th>M7Y</th>\n      <td>East Toronto</td>\n      <td>Business Reply Mail Processing Centre 969 Eastern</td>\n    </tr>\n    <tr>\n      <th>M8V</th>\n      <td>Etobicoke</td>\n      <td>Humber Bay Shores, Mimico South, New Toronto</td>\n    </tr>\n    <tr>\n      <th>M8W</th>\n      <td>Etobicoke</td>\n      <td>Alderwood, Long Branch</td>\n    </tr>\n    <tr>\n      <th>M8X</th>\n      <td>Etobicoke</td>\n      <td>The Kingsway, Montgomery Road, Old Mill North</td>\n    </tr>\n    <tr>\n      <th>M8Y</th>\n      <td>Etobicoke</td>\n      <td>Humber Bay, King's Mill Park, Kingsway Park So...</td>\n    </tr>\n    <tr>\n      <th>M8Z</th>\n      <td>Etobicoke</td>\n      <td>Kingsway Park South West, Mimico NW, The Queen...</td>\n    </tr>\n    <tr>\n      <th>M9A</th>\n      <td>Etobicoke</td>\n      <td>Islington Avenue</td>\n    </tr>\n    <tr>\n      <th>M9B</th>\n      <td>Etobicoke</td>\n      <td>Cloverdale, Islington, Martin Grove, Princess ...</td>\n    </tr>\n    <tr>\n      <th>M9C</th>\n      <td>Etobicoke</td>\n      <td>Bloordale Gardens, Eringate, Markland Wood, Ol...</td>\n    </tr>\n    <tr>\n      <th>M9L</th>\n      <td>North York</td>\n      <td>Humber Summit</td>\n    </tr>\n    <tr>\n      <th>M9M</th>\n      <td>North York</td>\n      <td>Emery, Humberlea</td>\n    </tr>\n    <tr>\n      <th>M9N</th>\n      <td>York</td>\n      <td>Weston</td>\n    </tr>\n    <tr>\n      <th>M9P</th>\n      <td>Etobicoke</td>\n      <td>Westmount</td>\n    </tr>\n    <tr>\n      <th>M9R</th>\n      <td>Etobicoke</td>\n      <td>Kingsview Village, Martin Grove Gardens, Richv...</td>\n    </tr>\n    <tr>\n      <th>M9V</th>\n      <td>Etobicoke</td>\n      <td>Albion Gardens, Beaumond Heights, Humbergate, ...</td>\n    </tr>\n    <tr>\n      <th>M9W</th>\n      <td>Etobicoke</td>\n      <td>Northwest</td>\n    </tr>\n  </tbody>\n</table>\n<p>103 rows \u00d7 2 columns</p>\n</div>", 
                        "text/plain": "                   Borough                                      Neighbourhood\nPostcode                                                                     \nM1B            Scarborough                                     Rouge, Malvern\nM1C            Scarborough             Highland Creek, Rouge Hill, Port Union\nM1E            Scarborough                  Guildwood, Morningside, West Hill\nM1G            Scarborough                                             Woburn\nM1H            Scarborough                                          Cedarbrae\nM1J            Scarborough                                Scarborough Village\nM1K            Scarborough        East Birchmount Park, Ionview, Kennedy Park\nM1L            Scarborough                    Clairlea, Golden Mile, Oakridge\nM1M            Scarborough    Cliffcrest, Cliffside, Scarborough Village West\nM1N            Scarborough                        Birch Cliff, Cliffside West\nM1P            Scarborough  Dorset Park, Scarborough Town Centre, Wexford ...\nM1R            Scarborough                                  Maryvale, Wexford\nM1S            Scarborough                                          Agincourt\nM1T            Scarborough            Clarks Corners, Sullivan, Tam O'Shanter\nM1V            Scarborough  Agincourt North, L'Amoreaux East, Milliken, St...\nM1W            Scarborough                                    L'Amoreaux West\nM1X            Scarborough                                        Upper Rouge\nM2H             North York                                  Hillcrest Village\nM2J             North York                       Fairview, Henry Farm, Oriole\nM2K             North York                                    Bayview Village\nM2L             North York                           Silver Hills, York Mills\nM2M             North York                            Newtonbrook, Willowdale\nM2N             North York                                   Willowdale South\nM2P             North York                                    York Mills West\nM2R             North York                                    Willowdale West\nM3A             North York                                          Parkwoods\nM3B             North York                                    Don Mills North\nM3C             North York                   Flemingdon Park, Don Mills South\nM3H             North York    Bathurst Manor, Downsview North, Wilson Heights\nM3J             North York                    Northwood Park, York University\n...                    ...                                                ...\nM6C                   York                                 Humewood-Cedarvale\nM6E                   York                                Caledonia-Fairbanks\nM6G       Downtown Toronto                                           Christie\nM6H           West Toronto                       Dovercourt Village, Dufferin\nM6J           West Toronto                           Little Portugal, Trinity\nM6K           West Toronto       Brockton, Exhibition Place, Parkdale Village\nM6L             North York                 Downsview, North Park, Upwood Park\nM6M                   York     Del Ray, Keelesdale, Mount Dennis, Silverthorn\nM6N                   York                      The Junction North, Runnymede\nM6P           West Toronto                      High Park, The Junction South\nM6R           West Toronto                             Parkdale, Roncesvalles\nM6S           West Toronto                                 Runnymede, Swansea\nM7A           Queen's Park                                       Queen's Park\nM7R            Mississauga              Canada Post Gateway Processing Centre\nM7Y           East Toronto  Business Reply Mail Processing Centre 969 Eastern\nM8V              Etobicoke       Humber Bay Shores, Mimico South, New Toronto\nM8W              Etobicoke                             Alderwood, Long Branch\nM8X              Etobicoke      The Kingsway, Montgomery Road, Old Mill North\nM8Y              Etobicoke  Humber Bay, King's Mill Park, Kingsway Park So...\nM8Z              Etobicoke  Kingsway Park South West, Mimico NW, The Queen...\nM9A              Etobicoke                                   Islington Avenue\nM9B              Etobicoke  Cloverdale, Islington, Martin Grove, Princess ...\nM9C              Etobicoke  Bloordale Gardens, Eringate, Markland Wood, Ol...\nM9L             North York                                      Humber Summit\nM9M             North York                                   Emery, Humberlea\nM9N                   York                                             Weston\nM9P              Etobicoke                                          Westmount\nM9R              Etobicoke  Kingsview Village, Martin Grove Gardens, Richv...\nM9V              Etobicoke  Albion Gardens, Beaumond Heights, Humbergate, ...\nM9W              Etobicoke                                          Northwest\n\n[103 rows x 2 columns]"
                    }, 
                    "output_type": "execute_result"
                }
            ], 
            "source": "\nTDF=Toronto_database.groupby('Postcode').agg({\n                'Borough': lambda x: x.unique(),\n                'Neighbourhood': lambda x: ', '.join(x)\n    })\nTDF"
        }, 
        {
            "execution_count": 19, 
            "cell_type": "code", 
            "metadata": {}, 
            "outputs": [
                {
                    "execution_count": 19, 
                    "metadata": {}, 
                    "data": {
                        "text/plain": "(103, 2)"
                    }, 
                    "output_type": "execute_result"
                }
            ], 
            "source": "TDF.shape"
        }, 
        {
            "execution_count": null, 
            "cell_type": "code", 
            "metadata": {}, 
            "outputs": [], 
            "source": ""
        }
    ], 
    "metadata": {
        "kernelspec": {
            "display_name": "Python 3.5", 
            "name": "python3", 
            "language": "python"
        }, 
        "language_info": {
            "mimetype": "text/x-python", 
            "nbconvert_exporter": "python", 
            "version": "3.5.5", 
            "name": "python", 
            "file_extension": ".py", 
            "pygments_lexer": "ipython3", 
            "codemirror_mode": {
                "version": 3, 
                "name": "ipython"
            }
        }
    }, 
    "nbformat": 4
}